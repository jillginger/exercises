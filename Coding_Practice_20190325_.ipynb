{
  "nbformat": 4,
  "nbformat_minor": 0,
  "metadata": {
    "colab": {
      "name": "Coding Practice 20190325 .ipynb",
      "provenance": [],
      "include_colab_link": true
    },
    "kernelspec": {
      "display_name": "Python 3",
      "language": "python",
      "name": "python3"
    }
  },
  "cells": [
    {
      "cell_type": "markdown",
      "metadata": {
        "id": "view-in-github",
        "colab_type": "text"
      },
      "source": [
        "<a href=\"https://colab.research.google.com/github/jillginger/exercises/blob/main/Coding_Practice_20190325_.ipynb\" target=\"_parent\"><img src=\"https://colab.research.google.com/assets/colab-badge.svg\" alt=\"Open In Colab\"/></a>"
      ]
    },
    {
      "cell_type": "markdown",
      "metadata": {
        "id": "w_A0h5F9v6QU"
      },
      "source": [
        "#_Self-Coding Practice_\n"
      ]
    },
    {
      "cell_type": "markdown",
      "metadata": {
        "id": "yWmKqpgrv6QW"
      },
      "source": [
        "This notebook is created for practicing python coding using examples from https://www.w3schools.com/python/."
      ]
    },
    {
      "cell_type": "code",
      "metadata": {
        "id": "7IUgFvoKv6QY",
        "outputId": "0da8c89a-13a3-4675-d391-ae183b81a3a6"
      },
      "source": [
        "#Define a function\n",
        "def my_function(fname):\n",
        "   print (fname+' is a pig')\n",
        "    \n",
        "my_function('Hahaha')"
      ],
      "execution_count": null,
      "outputs": [
        {
          "output_type": "stream",
          "text": [
            "Hahaha is a pig\n"
          ],
          "name": "stdout"
        }
      ]
    },
    {
      "cell_type": "code",
      "metadata": {
        "id": "NGvUFGwvv6Qi",
        "outputId": "d1cea46a-5258-4266-a6fc-aa3cb5a78ba6"
      },
      "source": [
        "#设定函数的初始值\n",
        "def my_function(country=' Atlantis'):\n",
        "   print('I am from'+ country)\n",
        "my_function()\n",
        "my_function(' Norway')\n",
        "my_function(' China')"
      ],
      "execution_count": null,
      "outputs": [
        {
          "output_type": "stream",
          "text": [
            "I am from Atlantis\n",
            "I am from Norway\n",
            "I am from China\n"
          ],
          "name": "stdout"
        }
      ]
    },
    {
      "cell_type": "code",
      "metadata": {
        "id": "fRrIm1g6v6Qo",
        "outputId": "f20ab4dd-8efa-48a8-d6df-c35895dc76ab"
      },
      "source": [
        "#return to a 算数式子\n",
        "def my_function(x):\n",
        "    return 5*x\n",
        "my_function(926)\n",
        "#Qestion：Python啥时候用return，啥时候用print？文字用print，非string用return？？？"
      ],
      "execution_count": null,
      "outputs": [
        {
          "output_type": "execute_result",
          "data": {
            "text/plain": [
              "4630"
            ]
          },
          "metadata": {
            "tags": []
          },
          "execution_count": 20
        }
      ]
    },
    {
      "cell_type": "code",
      "metadata": {
        "id": "ghtdq5Xiv6Qs",
        "outputId": "5efabfea-dfa4-4f90-e21a-d6653049e2ef"
      },
      "source": [
        "#Recursion\n",
        "def tri_recursion(k):\n",
        "    if k>0:\n",
        "        result = k+ tri_recursion(k-1)\n",
        "        print(result)\n",
        "    else:\n",
        "        result = 0\n",
        "    return result\n",
        "print(\"\\n\\nRecursion Example Results\")\n",
        "#'\\n'means a new line\n",
        "tri_recursion(6)\n",
        "#Question: why no listing fro 21 to 1? The system shuold print result(k=6), result(k=5)... to result(k=1), right?"
      ],
      "execution_count": null,
      "outputs": [
        {
          "output_type": "stream",
          "text": [
            "\n",
            "\n",
            "Recursion Example Results\n",
            "1\n",
            "3\n",
            "6\n",
            "10\n",
            "15\n",
            "21\n"
          ],
          "name": "stdout"
        },
        {
          "output_type": "execute_result",
          "data": {
            "text/plain": [
              "21"
            ]
          },
          "metadata": {
            "tags": []
          },
          "execution_count": 21
        }
      ]
    },
    {
      "cell_type": "code",
      "metadata": {
        "id": "-8ickTTiv6Qw"
      },
      "source": [
        ""
      ],
      "execution_count": null,
      "outputs": []
    }
  ]
}